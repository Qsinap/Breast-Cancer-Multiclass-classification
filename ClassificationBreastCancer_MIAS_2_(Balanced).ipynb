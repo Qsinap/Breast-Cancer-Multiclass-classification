{
  "nbformat": 4,
  "nbformat_minor": 0,
  "metadata": {
    "colab": {
      "name": "ClassificationBreastCancer_MIAS_2.ipynb",
      "provenance": [],
      "collapsed_sections": [],
      "machine_shape": "hm"
    },
    "kernelspec": {
      "name": "python3",
      "display_name": "Python 3"
    },
    "language_info": {
      "name": "python"
    },
    "accelerator": "GPU"
  },
  "cells": [
    {
      "cell_type": "code",
      "metadata": {
        "colab": {
          "base_uri": "https://localhost:8080/"
        },
        "id": "SDBVqYlPISkx",
        "outputId": "60510aac-482f-4229-d434-7c4de112aa15"
      },
      "source": [
        "from google.colab import drive\n",
        "drive.mount('/content/drive')"
      ],
      "execution_count": 1,
      "outputs": [
        {
          "output_type": "stream",
          "text": [
            "Mounted at /content/drive\n"
          ],
          "name": "stdout"
        }
      ]
    },
    {
      "cell_type": "code",
      "metadata": {
        "id": "djHi7EIaIM3i"
      },
      "source": [
        "import keras.backend as K\n",
        "import numpy as np\n",
        "import matplotlib.pyplot as plt\n",
        "import glob\n",
        "import os\n",
        "import math\n",
        "from keras.callbacks import ModelCheckpoint, EarlyStopping\n",
        "import tensorflow as tf\n",
        "import scipy.io as sio\n",
        "import pandas as pd\n",
        "import time\n",
        "import cv2"
      ],
      "execution_count": 2,
      "outputs": []
    },
    {
      "cell_type": "code",
      "metadata": {
        "id": "pbqw3bkFoJRJ"
      },
      "source": [
        "path_mias='/content/drive/MyDrive/dataset/MIAS_kaggle/all-mias/'\n",
        "sub_id=sio.loadmat('/content/drive/MyDrive/dataset/MIAS_kaggle/sub_id.mat')['Id']\n",
        "sub_lab=sio.loadmat('/content/drive/MyDrive/dataset/MIAS_kaggle/Dic.mat')\n",
        "classes=np.array(['MISC', 'CIRC', 'CALC', 'SPIC', 'ASYM', 'ARCH', 'NORM'])"
      ],
      "execution_count": 3,
      "outputs": []
    },
    {
      "cell_type": "code",
      "metadata": {
        "id": "5USD8Zk2zYx1"
      },
      "source": [
        "def labels_f(key):\n",
        "  return np.where(classes==sub_lab[key][0])[0][0]\n",
        "vecx=np.vectorize(labels_f)"
      ],
      "execution_count": 4,
      "outputs": []
    },
    {
      "cell_type": "code",
      "metadata": {
        "id": "brw4n57NzZ7W"
      },
      "source": [
        "def count_cl(ind_0):\n",
        "  count=[]\n",
        "  for i in range(7):\n",
        "    Num_i=np.sum(vecx(ind_0)==i)\n",
        "    count=np.append(count, Num_i)\n",
        "  return count.astype('int')"
      ],
      "execution_count": 5,
      "outputs": []
    },
    {
      "cell_type": "code",
      "metadata": {
        "colab": {
          "base_uri": "https://localhost:8080/"
        },
        "id": "B34Xid1vzZ4p",
        "outputId": "3d465b13-6ccb-40ac-8157-5d52725f4307"
      },
      "source": [
        "count_cl(sub_id)"
      ],
      "execution_count": 6,
      "outputs": [
        {
          "output_type": "execute_result",
          "data": {
            "text/plain": [
              "array([ 14,  23,  25,  19,  15,  19, 207])"
            ]
          },
          "metadata": {
            "tags": []
          },
          "execution_count": 6
        }
      ]
    },
    {
      "cell_type": "code",
      "metadata": {
        "id": "8zi2Srx8zt3k"
      },
      "source": [
        "k_0 =[(0,0), (0,2), (1,1), (1,3), (2,0), (2,2), (3,1), (3,3), (0,1), (0,3), (1,0), (1,2), (2,1), (2,3), (3,0), (3,2)]\n",
        "def get_ima(tam, pk, ima, x_id):\n",
        "  ver=np.zeros((tam,tam))\n",
        "  hor=np.zeros((tam,tam))\n",
        "  ver[np.arange(tam)%4==k_0[pk][0],:]=1\n",
        "  hor[:,np.arange(tam)%4==k_0[pk][1]]=1\n",
        "  ima=ima[...,0]\n",
        "  ima=ima[ver*hor==1].reshape((int(tam/4),int(tam/4)))\n",
        "  if k_0[pk][0]>=2:\n",
        "    ima=np.flip(ima, axis=0)\n",
        "  ima=np.rot90(ima,k_0[pk][1])\n",
        "  lab=labels_f(x_id)\n",
        "  return ima, int(lab)"
      ],
      "execution_count": 7,
      "outputs": []
    },
    {
      "cell_type": "code",
      "metadata": {
        "id": "_nX5BLXUzZ1v"
      },
      "source": [
        "def get_data_reduction(x_id, Fourier=False, pk=np.random.choice(16), aug=True):\n",
        "  tam=1024\n",
        "  name=path_mias+x_id+'.pgm'\n",
        "  ima = cv2.imread(name)  \n",
        "  if np.shape(ima)[0]!=tam:\n",
        "    print('Size error')\n",
        "  else:\n",
        "    if aug:\n",
        "      imaOu=np.zeros((16,int(tam/4),int(tam/4)))\n",
        "      lab2=[]\n",
        "      for pk in range(16):\n",
        "        im, la=get_ima(tam, pk, ima, x_id)\n",
        "        imaOu[pk]=im\n",
        "        lab2=np.append(lab2,la)\n",
        "      return imaOu, lab2\n",
        "    else:\n",
        "      return get_ima(tam, pk, ima, x_id)"
      ],
      "execution_count": 8,
      "outputs": []
    },
    {
      "cell_type": "code",
      "metadata": {
        "colab": {
          "base_uri": "https://localhost:8080/"
        },
        "id": "xMhB8htyzZmW",
        "outputId": "399415a9-9750-470b-92de-bf46a4751464"
      },
      "source": [
        "xx, yy=get_data_reduction('mdb013', aug=True)\n",
        "np.shape(xx), np.shape(yy)"
      ],
      "execution_count": 9,
      "outputs": [
        {
          "output_type": "execute_result",
          "data": {
            "text/plain": [
              "((16, 256, 256), (16,))"
            ]
          },
          "metadata": {
            "tags": []
          },
          "execution_count": 9
        }
      ]
    },
    {
      "cell_type": "code",
      "metadata": {
        "id": "67f3VDJpzx5U"
      },
      "source": [
        "def get_index2(inds_0):\n",
        "  val=vecx(inds_0)\n",
        "  train_id=[]\n",
        "  valid_id=[]\n",
        "  test_id =[]\n",
        "\n",
        "  for ix in range(7):\n",
        "    pos=np.where(val==ix)[0]\n",
        "    sz=np.shape(pos)[0]\n",
        "    rx=np.random.choice(sz,sz,replace=False)\n",
        "    pos=pos[rx]\n",
        "    train_id=np.append(train_id, inds_0[pos[:int(sz*0.6)]])\n",
        "    valid_id=np.append(valid_id, inds_0[pos[int(sz*0.6):int(sz*0.8)]])\n",
        "    test_id =np.append(test_id , inds_0[pos[int(sz*0.8):]])\n",
        "\n",
        "  #Esta parte puede sobrar\n",
        "  stn=np.shape(train_id)[0]\n",
        "  sva=np.shape(valid_id)[0]\n",
        "  stt=np.shape(test_id)[0]\n",
        "\n",
        "  train_id=train_id[np.random.choice(stn,stn,replace=False)]\n",
        "  valid_id=valid_id[np.random.choice(sva,sva,replace=False)]\n",
        "  test_id =test_id[np.random.choice(stt,stt,replace=False)]\n",
        "  return train_id, valid_id, test_id"
      ],
      "execution_count": 10,
      "outputs": []
    },
    {
      "cell_type": "code",
      "metadata": {
        "id": "TN7ihPHIzxyN"
      },
      "source": [
        "def one_hot(vec):\n",
        "  vec = vec\n",
        "  shape = (vec.size, 7)\n",
        "  one = np.zeros(shape)\n",
        "  rows = np.arange(vec.size)\n",
        "  one[rows, vec.astype('int')] = 1\n",
        "  return one"
      ],
      "execution_count": 11,
      "outputs": []
    },
    {
      "cell_type": "code",
      "metadata": {
        "id": "o7gqzrjmzxo8"
      },
      "source": [
        "def get_matrix(ind_0, aug=False, rgb=True):\n",
        "  sz=np.shape(ind_0)[0]\n",
        "  ima,lab=get_data_reduction(ind_0[0], aug=aug)\n",
        "  szx=np.shape(ima)\n",
        "  dis=count_cl(ind_0)\n",
        "  max_aug=int(np.min(dis)*16)\n",
        "  sz2=sz*((int(aug)-1)**2)+7*max_aug*(1-((int(aug)-1)**2))\n",
        "  mat=np.zeros((sz2,szx[0+int(aug)],szx[1+int(aug)]))\n",
        "  labels=[]\n",
        "  sub=count_cl(ind_0)                #Sujetos \n",
        "  resi=max_aug%sub                   #Residuales \n",
        "  augmen=(max_aug/sub).astype('int') #Aumento de los datos\n",
        "  Br=resi>0\n",
        "  contx=0\n",
        "  pk_0=0\n",
        "\n",
        "  for n,ix in enumerate(ind_0):    \n",
        "    lab_s=labels_f(ix)\n",
        "    if Br[lab_s]:\n",
        "      pk=int(augmen[lab_s]+1)\n",
        "    else:\n",
        "      pk=int(augmen[lab_s])\n",
        "    resi[lab_s]=resi[lab_s]-1\n",
        "    Br=resi>0\n",
        "    if pk!=0:\n",
        "      if not aug:\n",
        "        pk=1\n",
        "      contx=contx+pk\n",
        "      ima,lab=get_data_reduction(ix, aug=aug)\n",
        "\n",
        "      if aug:\n",
        "        mat[pk_0:contx]=ima[:pk]\n",
        "        labels=np.append(labels, lab[:pk])\n",
        "      else:\n",
        "        mat[pk_0:contx]=ima\n",
        "        labels=np.append(labels, lab)\n",
        "      pk_0=contx\n",
        "    print(\"\\rprocess \", round((n+1)*100/sz, 2), \"%\", end=\"\")\n",
        "  mat=tf.convert_to_tensor(mat.reshape(np.shape(mat)+(1,)))\n",
        "  labels=tf.convert_to_tensor(one_hot(labels))\n",
        "  if rgb:\n",
        "    return tf.image.grayscale_to_rgb(mat), labels\n",
        "  else:\n",
        "    return mat, labels"
      ],
      "execution_count": 12,
      "outputs": []
    },
    {
      "cell_type": "code",
      "metadata": {
        "colab": {
          "base_uri": "https://localhost:8080/"
        },
        "id": "-ECri0Jvz3a1",
        "outputId": "4418720c-6796-47ba-ffe3-f3237a0b8b08"
      },
      "source": [
        "train,valid,test=get_index2(sub_id)\n",
        "x_train, y_train=get_matrix(train, True)\n",
        "x_valid, y_valid=get_matrix(valid, True)\n",
        "x_test , y_test =get_matrix(test,  True)"
      ],
      "execution_count": 13,
      "outputs": [
        {
          "output_type": "stream",
          "text": [
            "process  100.0 %"
          ],
          "name": "stdout"
        }
      ]
    },
    {
      "cell_type": "code",
      "metadata": {
        "id": "bOtBW22pf8Wb"
      },
      "source": [
        "from tensorflow.keras import applications as ap\n",
        "from tensorflow.keras.models import Sequential\n",
        "from tensorflow.keras.layers import Dense"
      ],
      "execution_count": 14,
      "outputs": []
    },
    {
      "cell_type": "code",
      "metadata": {
        "id": "8w_5hKxwgURQ"
      },
      "source": [
        "Networs=['DenseNet121']#, 'EfficientNetB7', 'InceptionResNetV2', 'ResNet50V2', 'VGG19', 'Xception', 'InceptionV3']\n",
        "def get_model(network, opt='adadelta', loss_name='categorical_crossentropy', input_shape=(256,256,3)):\n",
        "  try:\n",
        "    del model\n",
        "  except:\n",
        "    print('done')\n",
        "  model=Sequential()\n",
        "  if network=='ResNet50V2':\n",
        "    model.add(ap.ResNet50V2(include_top=False, input_shape=input_shape, pooling='avg', classes=7)) # The input must have 3 channels\n",
        "  if network=='EfficientNetB7':\n",
        "    model.add(ap.EfficientNetB7(include_top=False, input_shape=input_shape, pooling='avg', classes=7)) \n",
        "  if network=='InceptionResNetV2':\n",
        "    model.add(ap.InceptionResNetV2(include_top=False, input_shape=input_shape, pooling='avg', classes=7)) \n",
        "  if network=='InceptionV3':\n",
        "    model.add(ap.InceptionV3(include_top=False, input_shape=input_shape, pooling='avg', classes=7)) \n",
        "  if network=='NASNetLarge':\n",
        "    model.add(ap.NASNetLarge(include_top=False, input_shape=input_shape, pooling='avg', classes=7))\n",
        "  if network=='VGG19':\n",
        "    model.add(ap.VGG19(include_top=False, input_shape=input_shape, pooling='avg', classes=7)) \n",
        "  if network=='Xception':\n",
        "    model.add(ap.Xception(include_top=False, input_shape=input_shape, pooling='avg', classes=7))\n",
        "  if network=='DenseNet121':\n",
        "    model.add(ap.DenseNet121(include_top=False, input_shape=input_shape, pooling='avg', classes=7))\n",
        "  \n",
        "  model.add(Dense(7, activation='softmax'))\n",
        "  model.compile(optimizer=opt, loss=loss_name, metrics=['acc', tf.keras.metrics.Recall(), tf.keras.metrics.FalsePositives()])\n",
        "  return model"
      ],
      "execution_count": 15,
      "outputs": []
    },
    {
      "cell_type": "code",
      "metadata": {
        "id": "X3CQnEN220kT",
        "colab": {
          "base_uri": "https://localhost:8080/",
          "height": 49
        },
        "outputId": "39978fc8-3c56-4f20-d319-893def211787"
      },
      "source": [
        "df = pd.DataFrame(columns=('run_n', 'network', 'optimizer', 'loss', 'epochs', 'total_parameters', 'time', 'augm', 'Class', 'TP', 'TN', 'FP', 'FN','result_mat'))\n",
        "df.head()"
      ],
      "execution_count": 16,
      "outputs": [
        {
          "output_type": "execute_result",
          "data": {
            "text/html": [
              "<div>\n",
              "<style scoped>\n",
              "    .dataframe tbody tr th:only-of-type {\n",
              "        vertical-align: middle;\n",
              "    }\n",
              "\n",
              "    .dataframe tbody tr th {\n",
              "        vertical-align: top;\n",
              "    }\n",
              "\n",
              "    .dataframe thead th {\n",
              "        text-align: right;\n",
              "    }\n",
              "</style>\n",
              "<table border=\"1\" class=\"dataframe\">\n",
              "  <thead>\n",
              "    <tr style=\"text-align: right;\">\n",
              "      <th></th>\n",
              "      <th>run_n</th>\n",
              "      <th>network</th>\n",
              "      <th>optimizer</th>\n",
              "      <th>loss</th>\n",
              "      <th>epochs</th>\n",
              "      <th>total_parameters</th>\n",
              "      <th>time</th>\n",
              "      <th>augm</th>\n",
              "      <th>Class</th>\n",
              "      <th>TP</th>\n",
              "      <th>TN</th>\n",
              "      <th>FP</th>\n",
              "      <th>FN</th>\n",
              "      <th>result_mat</th>\n",
              "    </tr>\n",
              "  </thead>\n",
              "  <tbody>\n",
              "  </tbody>\n",
              "</table>\n",
              "</div>"
            ],
            "text/plain": [
              "Empty DataFrame\n",
              "Columns: [run_n, network, optimizer, loss, epochs, total_parameters, time, augm, Class, TP, TN, FP, FN, result_mat]\n",
              "Index: []"
            ]
          },
          "metadata": {
            "tags": []
          },
          "execution_count": 16
        }
      ]
    },
    {
      "cell_type": "code",
      "metadata": {
        "id": "S1-EjVdu6sG9"
      },
      "source": [
        "from IPython.display import clear_output\n",
        "\n",
        "path2='/content/drive/MyDrive/INDIGO_MLR/CancerDeMama_MIAS_2/data_augmentation/'\n",
        "pathW='/content/drive/MyDrive/INDIGO_MLR/CancerDeMama_MIAS_2/Weights/'\n",
        "augmentation='partsRotated'\n",
        "optimizer='adadelta'\n",
        "epochs=40\n",
        "loss='categorical_crossentropy'"
      ],
      "execution_count": 17,
      "outputs": []
    },
    {
      "cell_type": "code",
      "metadata": {
        "id": "YwV3qOsJbAxk"
      },
      "source": [
        "TP=tf.keras.metrics.TruePositives()\n",
        "TN=tf.keras.metrics.TrueNegatives()\n",
        "FP=tf.keras.metrics.FalsePositives()\n",
        "FN=tf.keras.metrics.FalseNegatives()"
      ],
      "execution_count": 18,
      "outputs": []
    },
    {
      "cell_type": "code",
      "metadata": {
        "id": "Dlp0XBtm2n0b",
        "colab": {
          "base_uri": "https://localhost:8080/"
        },
        "outputId": "91822b9e-c1b0-4e5b-82c7-4deb6c024275"
      },
      "source": [
        "for net in Networs:\n",
        "\n",
        "  name_0='_'.join(['clasification_t',augmentation,net,optimizer])\n",
        "  if not os.path.exists(path2+name_0+'.csv'):\n",
        "    df.to_csv(path2+name_0+'.csv')\n",
        "\n",
        "  for i in range(15, 40): #Numero corridas \n",
        "    for j in [loss]: #Funciones de perdida\n",
        "      cntn=True\n",
        "      name_m='_'.join([name_0,j,'run',str(i)])  \n",
        "      print(name_m)\n",
        "\n",
        "      #Obtener imagenes nuevamente\n",
        "      train,valid,test=get_index2(sub_id)\n",
        "      x_train, y_train=get_matrix(train, True)\n",
        "      x_valid, y_valid=get_matrix(valid, True)\n",
        "      x_test , y_test =get_matrix(test,  True)\n",
        "      y_test=y_test>=0.5\n",
        "\n",
        "      model=get_model(net)\n",
        "      \n",
        "      try:\n",
        "        tic = time.time()\n",
        "        #results = model.fit(x_train, y_train, validation_data=(x_valid, y_valid), epochs=epochs)\n",
        "        results = model.fit(x_train, y_train, validation_data=(x_valid, y_valid), batch_size=10, epochs=epochs)\n",
        "        toc=time.time()-tic\n",
        "        model.save_weights(pathW+name_m+\"w.h5\")\n",
        "      except:\n",
        "        print('Training error')\n",
        "        cntn=False\n",
        "\n",
        "      if cntn:\n",
        "        sio.savemat(pathW+name_m+'_r.mat', results.history)\n",
        "\n",
        "        #Validation\n",
        "        y_hat=np.array(model.predict(x_test))\n",
        "        sio.savemat(pathW+name_m+'_los_8.mat',{'y_hat': y_hat, 'y_test': np.array(y_test)})\n",
        "        y_hat=y_hat>=0.5\n",
        "\n",
        "        for class_i in range(7):\n",
        "          TP.reset_state()\n",
        "          TN.reset_state()\n",
        "          FP.reset_state()\n",
        "          FN.reset_state()        \n",
        "\n",
        "          TP.update_state(y_test[:,class_i], y_hat[:,class_i])\n",
        "          TN.update_state(y_test[:,class_i], y_hat[:,class_i])\n",
        "          FP.update_state(y_test[:,class_i], y_hat[:,class_i])\n",
        "          FN.update_state(y_test[:,class_i], y_hat[:,class_i])\n",
        "          total_p=model.count_params()\n",
        "\n",
        "          #data frame\n",
        "          df2=pd.read_csv(path2+name_0+'.csv')\n",
        "          df2=df2.append({'run_n': i,\n",
        "                        'network': net,\n",
        "                        'optimizer': optimizer,\n",
        "                        'loss': 'categorical_crossentropy',\n",
        "                        'epochs': epochs,\n",
        "                        'total_parameters': total_p,\n",
        "                        'time': toc,\n",
        "                        'augm': augmentation,\n",
        "                        'Class': class_i,\n",
        "                        'TP': float(TP.result()),\n",
        "                        'TN': float(TN.result()),\n",
        "                        'FP': float(FP.result()),\n",
        "                        'FN': float(FN.result()),\n",
        "                        'result_mat': name_m+'_r.mat'} , ignore_index=True)\n",
        "          df2=df2.drop(df2.columns[:np.where(df2.columns=='run_n')[0][0]], axis=1)\n",
        "          df2.to_csv(path2+name_0+'.csv')\n",
        "        del train, valid, test, x_train, y_train, x_valid, y_valid, x_test, y_test, model\n",
        "        clear_output(wait=True)"
      ],
      "execution_count": null,
      "outputs": [
        {
          "output_type": "stream",
          "text": [
            "clasification_t_partsRotated_DenseNet121_adadelta_categorical_crossentropy_run_16\n",
            "process  100.0 %done\n",
            "Epoch 1/40\n",
            "90/90 [==============================] - 27s 205ms/step - loss: 2.2691 - acc: 0.1507 - recall_1: 0.0067 - false_positives_2: 39.0000 - val_loss: 2.3061 - val_acc: 0.1488 - val_recall_1: 0.0030 - val_false_positives_2: 32.0000\n",
            "Epoch 2/40\n",
            "90/90 [==============================] - 15s 172ms/step - loss: 2.2003 - acc: 0.1629 - recall_1: 0.0067 - false_positives_2: 21.0000 - val_loss: 2.2676 - val_acc: 0.1637 - val_recall_1: 0.0089 - val_false_positives_2: 27.0000\n",
            "Epoch 3/40\n",
            "90/90 [==============================] - 15s 172ms/step - loss: 2.0789 - acc: 0.1975 - recall_1: 0.0045 - false_positives_2: 15.0000 - val_loss: 2.1975 - val_acc: 0.1637 - val_recall_1: 0.0060 - val_false_positives_2: 9.0000\n",
            "Epoch 4/40\n",
            "90/90 [==============================] - 16s 173ms/step - loss: 2.0115 - acc: 0.2143 - recall_1: 0.0056 - false_positives_2: 10.0000 - val_loss: 2.1473 - val_acc: 0.1518 - val_recall_1: 0.0030 - val_false_positives_2: 7.0000\n",
            "Epoch 5/40\n",
            "90/90 [==============================] - 17s 186ms/step - loss: 1.9529 - acc: 0.2299 - recall_1: 0.0112 - false_positives_2: 13.0000 - val_loss: 2.1095 - val_acc: 0.1518 - val_recall_1: 0.0030 - val_false_positives_2: 2.0000\n",
            "Epoch 6/40\n",
            "90/90 [==============================] - 17s 186ms/step - loss: 1.8776 - acc: 0.2455 - recall_1: 0.0112 - false_positives_2: 4.0000 - val_loss: 2.0717 - val_acc: 0.1607 - val_recall_1: 0.0030 - val_false_positives_2: 0.0000e+00\n",
            "Epoch 7/40\n",
            "90/90 [==============================] - 16s 175ms/step - loss: 1.8337 - acc: 0.2857 - recall_1: 0.0145 - false_positives_2: 6.0000 - val_loss: 2.0417 - val_acc: 0.1696 - val_recall_1: 0.0030 - val_false_positives_2: 1.0000\n",
            "Epoch 8/40\n",
            "90/90 [==============================] - 16s 175ms/step - loss: 1.7678 - acc: 0.3058 - recall_1: 0.0234 - false_positives_2: 5.0000 - val_loss: 2.0153 - val_acc: 0.1726 - val_recall_1: 0.0030 - val_false_positives_2: 1.0000\n",
            "Epoch 9/40\n",
            "90/90 [==============================] - 16s 175ms/step - loss: 1.7090 - acc: 0.3471 - recall_1: 0.0246 - false_positives_2: 1.0000 - val_loss: 1.9902 - val_acc: 0.1696 - val_recall_1: 0.0030 - val_false_positives_2: 1.0000\n",
            "Epoch 10/40\n",
            "90/90 [==============================] - 16s 176ms/step - loss: 1.6606 - acc: 0.3817 - recall_1: 0.0201 - false_positives_2: 3.0000 - val_loss: 1.9657 - val_acc: 0.1786 - val_recall_1: 0.0030 - val_false_positives_2: 1.0000\n",
            "Epoch 11/40\n",
            "90/90 [==============================] - 16s 176ms/step - loss: 1.6157 - acc: 0.4007 - recall_1: 0.0279 - false_positives_2: 2.0000 - val_loss: 1.9477 - val_acc: 0.1994 - val_recall_1: 0.0030 - val_false_positives_2: 2.0000\n",
            "Epoch 12/40\n",
            "90/90 [==============================] - 16s 175ms/step - loss: 1.5886 - acc: 0.4286 - recall_1: 0.0346 - false_positives_2: 4.0000 - val_loss: 1.9345 - val_acc: 0.1994 - val_recall_1: 0.0030 - val_false_positives_2: 1.0000\n",
            "Epoch 13/40\n",
            "90/90 [==============================] - 16s 175ms/step - loss: 1.5525 - acc: 0.4531 - recall_1: 0.0290 - false_positives_2: 4.0000 - val_loss: 1.9266 - val_acc: 0.2083 - val_recall_1: 0.0030 - val_false_positives_2: 3.0000\n",
            "Epoch 14/40\n",
            "90/90 [==============================] - 16s 175ms/step - loss: 1.4964 - acc: 0.4754 - recall_1: 0.0357 - false_positives_2: 2.0000 - val_loss: 1.9132 - val_acc: 0.2054 - val_recall_1: 0.0030 - val_false_positives_2: 3.0000\n",
            "Epoch 15/40\n",
            "90/90 [==============================] - 16s 176ms/step - loss: 1.4581 - acc: 0.5379 - recall_1: 0.0536 - false_positives_2: 1.0000 - val_loss: 1.9046 - val_acc: 0.2143 - val_recall_1: 0.0030 - val_false_positives_2: 2.0000\n",
            "Epoch 16/40\n",
            "90/90 [==============================] - 17s 188ms/step - loss: 1.4406 - acc: 0.5424 - recall_1: 0.0569 - false_positives_2: 3.0000 - val_loss: 1.9004 - val_acc: 0.2351 - val_recall_1: 0.0030 - val_false_positives_2: 3.0000\n",
            "Epoch 17/40\n",
            "90/90 [==============================] - 16s 175ms/step - loss: 1.3793 - acc: 0.5603 - recall_1: 0.0759 - false_positives_2: 0.0000e+00 - val_loss: 1.8925 - val_acc: 0.2292 - val_recall_1: 0.0000e+00 - val_false_positives_2: 3.0000\n",
            "Epoch 18/40\n",
            "90/90 [==============================] - 16s 176ms/step - loss: 1.3694 - acc: 0.5737 - recall_1: 0.0781 - false_positives_2: 3.0000 - val_loss: 1.8869 - val_acc: 0.2321 - val_recall_1: 0.0119 - val_false_positives_2: 3.0000\n",
            "Epoch 19/40\n",
            "90/90 [==============================] - 16s 176ms/step - loss: 1.3323 - acc: 0.6105 - recall_1: 0.0815 - false_positives_2: 4.0000 - val_loss: 1.8813 - val_acc: 0.2262 - val_recall_1: 0.0119 - val_false_positives_2: 4.0000\n",
            "Epoch 20/40\n",
            "90/90 [==============================] - 16s 176ms/step - loss: 1.2965 - acc: 0.6250 - recall_1: 0.0982 - false_positives_2: 3.0000 - val_loss: 1.8781 - val_acc: 0.2262 - val_recall_1: 0.0149 - val_false_positives_2: 4.0000\n",
            "Epoch 21/40\n",
            "90/90 [==============================] - 16s 176ms/step - loss: 1.2959 - acc: 0.6295 - recall_1: 0.1083 - false_positives_2: 4.0000 - val_loss: 1.8738 - val_acc: 0.2232 - val_recall_1: 0.0179 - val_false_positives_2: 6.0000\n",
            "Epoch 22/40\n",
            "90/90 [==============================] - 16s 175ms/step - loss: 1.2600 - acc: 0.6562 - recall_1: 0.1127 - false_positives_2: 7.0000 - val_loss: 1.8749 - val_acc: 0.2262 - val_recall_1: 0.0238 - val_false_positives_2: 7.0000\n",
            "Epoch 23/40\n",
            "90/90 [==============================] - 17s 188ms/step - loss: 1.2145 - acc: 0.6752 - recall_1: 0.1551 - false_positives_2: 7.0000 - val_loss: 1.8734 - val_acc: 0.2351 - val_recall_1: 0.0268 - val_false_positives_2: 12.0000\n",
            "Epoch 24/40\n",
            "90/90 [==============================] - 16s 175ms/step - loss: 1.1846 - acc: 0.6964 - recall_1: 0.1607 - false_positives_2: 8.0000 - val_loss: 1.8746 - val_acc: 0.2411 - val_recall_1: 0.0268 - val_false_positives_2: 14.0000\n",
            "Epoch 25/40\n",
            "90/90 [==============================] - 16s 176ms/step - loss: 1.1858 - acc: 0.6931 - recall_1: 0.1696 - false_positives_2: 7.0000 - val_loss: 1.8719 - val_acc: 0.2381 - val_recall_1: 0.0268 - val_false_positives_2: 15.0000\n",
            "Epoch 26/40\n",
            "90/90 [==============================] - 17s 187ms/step - loss: 1.1695 - acc: 0.7020 - recall_1: 0.1808 - false_positives_2: 13.0000 - val_loss: 1.8729 - val_acc: 0.2351 - val_recall_1: 0.0357 - val_false_positives_2: 17.0000\n",
            "Epoch 27/40\n",
            "90/90 [==============================] - 16s 175ms/step - loss: 1.1152 - acc: 0.7266 - recall_1: 0.2109 - false_positives_2: 8.0000 - val_loss: 1.8696 - val_acc: 0.2411 - val_recall_1: 0.0446 - val_false_positives_2: 18.0000\n",
            "Epoch 28/40\n",
            "90/90 [==============================] - 16s 175ms/step - loss: 1.0896 - acc: 0.7366 - recall_1: 0.2232 - false_positives_2: 15.0000 - val_loss: 1.8643 - val_acc: 0.2470 - val_recall_1: 0.0417 - val_false_positives_2: 19.0000\n",
            "Epoch 29/40\n",
            "90/90 [==============================] - 17s 188ms/step - loss: 1.0851 - acc: 0.7400 - recall_1: 0.2478 - false_positives_2: 13.0000 - val_loss: 1.8667 - val_acc: 0.2440 - val_recall_1: 0.0446 - val_false_positives_2: 19.0000\n",
            "Epoch 30/40\n",
            "90/90 [==============================] - 17s 188ms/step - loss: 1.0760 - acc: 0.7400 - recall_1: 0.2321 - false_positives_2: 12.0000 - val_loss: 1.8648 - val_acc: 0.2530 - val_recall_1: 0.0446 - val_false_positives_2: 23.0000\n",
            "Epoch 31/40\n",
            "90/90 [==============================] - 17s 187ms/step - loss: 1.0428 - acc: 0.7734 - recall_1: 0.2634 - false_positives_2: 10.0000 - val_loss: 1.8672 - val_acc: 0.2470 - val_recall_1: 0.0446 - val_false_positives_2: 25.0000\n",
            "Epoch 32/40\n",
            "90/90 [==============================] - 16s 175ms/step - loss: 1.0155 - acc: 0.7757 - recall_1: 0.3058 - false_positives_2: 13.0000 - val_loss: 1.8648 - val_acc: 0.2619 - val_recall_1: 0.0446 - val_false_positives_2: 28.0000\n",
            "Epoch 33/40\n",
            "90/90 [==============================] - 16s 176ms/step - loss: 0.9999 - acc: 0.7824 - recall_1: 0.3147 - false_positives_2: 9.0000 - val_loss: 1.8657 - val_acc: 0.2589 - val_recall_1: 0.0476 - val_false_positives_2: 27.0000\n",
            "Epoch 34/40\n",
            "90/90 [==============================] - 16s 176ms/step - loss: 0.9902 - acc: 0.7712 - recall_1: 0.3092 - false_positives_2: 9.0000 - val_loss: 1.8641 - val_acc: 0.2649 - val_recall_1: 0.0476 - val_false_positives_2: 28.0000\n",
            "Epoch 35/40\n",
            "90/90 [==============================] - 17s 187ms/step - loss: 0.9677 - acc: 0.7868 - recall_1: 0.3415 - false_positives_2: 7.0000 - val_loss: 1.8643 - val_acc: 0.2649 - val_recall_1: 0.0476 - val_false_positives_2: 29.0000\n",
            "Epoch 36/40\n",
            "90/90 [==============================] - 16s 175ms/step - loss: 0.9354 - acc: 0.7935 - recall_1: 0.3672 - false_positives_2: 11.0000 - val_loss: 1.8699 - val_acc: 0.2649 - val_recall_1: 0.0476 - val_false_positives_2: 29.0000\n",
            "Epoch 37/40\n",
            "90/90 [==============================] - 17s 187ms/step - loss: 0.9132 - acc: 0.8292 - recall_1: 0.3739 - false_positives_2: 9.0000 - val_loss: 1.8689 - val_acc: 0.2560 - val_recall_1: 0.0536 - val_false_positives_2: 30.0000\n",
            "Epoch 38/40\n",
            "90/90 [==============================] - 16s 176ms/step - loss: 0.9133 - acc: 0.8136 - recall_1: 0.3828 - false_positives_2: 14.0000 - val_loss: 1.8667 - val_acc: 0.2619 - val_recall_1: 0.0536 - val_false_positives_2: 30.0000\n",
            "Epoch 39/40\n",
            "90/90 [==============================] - ETA: 0s - loss: 0.8893 - acc: 0.8438 - recall_1: 0.3828 - false_positives_2: 12.0000"
          ],
          "name": "stdout"
        }
      ]
    }
  ]
}