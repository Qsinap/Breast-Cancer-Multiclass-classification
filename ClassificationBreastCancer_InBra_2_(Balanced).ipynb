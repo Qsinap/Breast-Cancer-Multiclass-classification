{
  "nbformat": 4,
  "nbformat_minor": 0,
  "metadata": {
    "colab": {
      "name": "ClassificationBreastCancer_InBra_2.ipynb",
      "provenance": [],
      "collapsed_sections": [],
      "machine_shape": "hm"
    },
    "kernelspec": {
      "name": "python3",
      "display_name": "Python 3"
    },
    "language_info": {
      "name": "python"
    },
    "accelerator": "GPU"
  },
  "cells": [
    {
      "cell_type": "code",
      "metadata": {
        "colab": {
          "base_uri": "https://localhost:8080/"
        },
        "id": "SDBVqYlPISkx",
        "outputId": "500007e6-a16e-4d5f-991e-5ca17c402a35"
      },
      "source": [
        "from google.colab import drive\n",
        "drive.mount('/content/drive')"
      ],
      "execution_count": 1,
      "outputs": [
        {
          "output_type": "stream",
          "text": [
            "Drive already mounted at /content/drive; to attempt to forcibly remount, call drive.mount(\"/content/drive\", force_remount=True).\n"
          ],
          "name": "stdout"
        }
      ]
    },
    {
      "cell_type": "code",
      "metadata": {
        "id": "djHi7EIaIM3i"
      },
      "source": [
        "import keras.backend as K\n",
        "import numpy as np\n",
        "import matplotlib.pyplot as plt\n",
        "import glob\n",
        "import os\n",
        "import math\n",
        "from keras.callbacks import ModelCheckpoint, EarlyStopping\n",
        "import tensorflow as tf\n",
        "import scipy.io as sio\n",
        "import pandas as pd\n",
        "import time\n",
        "import cv2\n",
        "from skimage.transform import resize"
      ],
      "execution_count": 2,
      "outputs": []
    },
    {
      "cell_type": "code",
      "metadata": {
        "id": "pbqw3bkFoJRJ"
      },
      "source": [
        "path_data='/content/drive/MyDrive/dataset/InBreast_kaggle/ALL-IMGS/'\n",
        "folders=glob.glob(path_data+'*.dcm') #410 imagenes de 115 sujetos\n",
        "excel=pd.read_excel('/content/drive/MyDrive/dataset/InBreast_kaggle/INbreast.xls')"
      ],
      "execution_count": 3,
      "outputs": []
    },
    {
      "cell_type": "code",
      "metadata": {
        "id": "5USD8Zk2zYx1"
      },
      "source": [
        "def get_mat_ima():\n",
        "  mats=sio.loadmat('/content/drive/MyDrive/dataset/InBreast_kaggle/imagenes.mat')\n",
        "  im_1=mats['images']\n",
        "  for ix in range(410):\n",
        "    im_1[ix]=im_1[ix]*255/np.max(im_1[ix])\n",
        "  im_1=im_1.astype('uint8')\n",
        "  return im_1"
      ],
      "execution_count": 4,
      "outputs": []
    },
    {
      "cell_type": "code",
      "metadata": {
        "id": "brw4n57NzZ7W"
      },
      "source": [
        "imas=get_mat_ima()\n",
        "classes=np.array(excel.loc[:,'Bi-Rads'][:-2])\n",
        "conver={'0':-1, '1':0, '2':1, '3':2, '4a':3, '4b':4, '4c':5, '5':6, '6':7}  #Bi-Rads"
      ],
      "execution_count": 5,
      "outputs": []
    },
    {
      "cell_type": "code",
      "metadata": {
        "id": "B34Xid1vzZ4p"
      },
      "source": [
        "def conver_f(val):\n",
        "  return conver[str(val)]\n",
        "vec=np.vectorize(conver_f)\n",
        "vec_c=vec(classes)"
      ],
      "execution_count": 6,
      "outputs": []
    },
    {
      "cell_type": "code",
      "metadata": {
        "id": "8zi2Srx8zt3k"
      },
      "source": [
        "k_0 =[(0,0), (0,2), (1,1), (1,3), (2,0), (2,2), (3,1), (3,3), (0,1), (0,3), (1,0), (1,2), (2,1), (2,3), (3,0), (3,2)]\n",
        "def get_ima(tam, pk, ima, x_id):\n",
        "  ver=np.zeros((tam,tam))\n",
        "  hor=np.zeros((tam,tam))\n",
        "  ver[np.arange(tam)%4==k_0[pk][0],:]=1\n",
        "  hor[:,np.arange(tam)%4==k_0[pk][1]]=1\n",
        "  #ima=ima[...,0]\n",
        "  ima=ima[ver*hor==1].reshape((int(tam/4),int(tam/4)))\n",
        "  if k_0[pk][0]>=2:\n",
        "    ima=np.flip(ima, axis=0)\n",
        "  ima=np.rot90(ima,k_0[pk][1])\n",
        "  lab=vec_c[x_id]\n",
        "  return ima, int(lab)"
      ],
      "execution_count": 7,
      "outputs": []
    },
    {
      "cell_type": "code",
      "metadata": {
        "id": "_nX5BLXUzZ1v"
      },
      "source": [
        "def get_data_reduction(x_id, Fourier=False, pk=np.random.choice(16), aug=True):\n",
        "  tam=1024\n",
        "  ima = imas[x_id]\n",
        "  \n",
        "  if np.shape(ima)[0]!=tam:\n",
        "    print('Size error')\n",
        "  else:\n",
        "    if aug:\n",
        "      imaOu=np.zeros((16,int(tam/4),int(tam/4)))\n",
        "      lab2=[]\n",
        "      for pk in range(16):\n",
        "        im, la=get_ima(tam, pk, ima, x_id)\n",
        "        imaOu[pk]=im\n",
        "        lab2=np.append(lab2,la)\n",
        "      return imaOu, lab2\n",
        "    else:\n",
        "      return get_ima(tam, pk, ima, x_id)"
      ],
      "execution_count": 8,
      "outputs": []
    },
    {
      "cell_type": "code",
      "metadata": {
        "id": "xMhB8htyzZmW",
        "colab": {
          "base_uri": "https://localhost:8080/"
        },
        "outputId": "10e146e0-5e88-43f4-d718-fcc652f9f8ae"
      },
      "source": [
        "xx, yy=get_data_reduction(5, aug=True)\n",
        "np.shape(xx), np.shape(yy)"
      ],
      "execution_count": 9,
      "outputs": [
        {
          "output_type": "execute_result",
          "data": {
            "text/plain": [
              "((16, 256, 256), (16,))"
            ]
          },
          "metadata": {
            "tags": []
          },
          "execution_count": 9
        }
      ]
    },
    {
      "cell_type": "code",
      "metadata": {
        "id": "Ec2Sqd3t-23G"
      },
      "source": [
        "def count_cl(ind_0):\n",
        "  count=[]\n",
        "  for i in range(8):\n",
        "    Num_i=np.sum(vec_c[ind_0]==i)\n",
        "    count=np.append(count, Num_i)\n",
        "  return count.astype('int')"
      ],
      "execution_count": 10,
      "outputs": []
    },
    {
      "cell_type": "code",
      "metadata": {
        "id": "ZTTzjJw0-4jd"
      },
      "source": [
        "def one_hot(vec):\n",
        "  vec = vec-1\n",
        "  shape = (vec.size, 8)\n",
        "  one = np.zeros(shape)\n",
        "  rows = np.arange(vec.size)\n",
        "  one[rows, vec.astype('int')] = 1\n",
        "  return one"
      ],
      "execution_count": 11,
      "outputs": []
    },
    {
      "cell_type": "code",
      "metadata": {
        "id": "QEwqCYDN-6cm"
      },
      "source": [
        "def get_matrix(ind_0, aug=False, rgb=True):\n",
        "  sz=np.shape(ind_0)[0]\n",
        "  ima,lab=get_data_reduction(ind_0[0], aug=aug)\n",
        "  szx=np.shape(ima)\n",
        "  dis=count_cl(ind_0)\n",
        "  max_aug=int(np.min(dis)*16)\n",
        "  sz2=sz*((int(aug)-1)**2)+8*max_aug*(1-((int(aug)-1)**2))\n",
        "  mat=np.zeros((sz2,szx[0+int(aug)],szx[1+int(aug)]))\n",
        "  labels=[]\n",
        "  sub=count_cl(ind_0)                #Sujetos \n",
        "  resi=max_aug%sub                   #Residuales \n",
        "  augmen=(max_aug/sub).astype('int') #Aumento de los datos\n",
        "  Br=resi>0\n",
        "  contx=0\n",
        "  pk_0=0\n",
        "\n",
        "  for n,ix in enumerate(ind_0):    \n",
        "    lab_s=vec_c[ix]\n",
        "    if Br[lab_s]:\n",
        "      pk=int(augmen[lab_s]+1)\n",
        "    else:\n",
        "      pk=int(augmen[lab_s])\n",
        "    resi[lab_s]=resi[lab_s]-1\n",
        "    Br=resi>0\n",
        "    \n",
        "    if pk!=0:\n",
        "      if not aug:\n",
        "        pk=1      \n",
        "      contx=contx+pk\n",
        "      ima,lab=get_data_reduction(ix, aug=aug)\n",
        "      if aug:\n",
        "        mat[pk_0:contx]=ima[:pk]\n",
        "        labels=np.append(labels, lab[:pk])\n",
        "      else:\n",
        "        mat[pk_0:contx]=ima\n",
        "        labels=np.append(labels, lab)\n",
        "      pk_0=contx\n",
        "\n",
        "    print(\"\\rprocess \", round((n+1)*100/sz, 2), \"%\", end=\"\")\n",
        "  mat=tf.convert_to_tensor(mat.reshape(np.shape(mat)+(1,)))\n",
        "  labels=tf.convert_to_tensor(one_hot(labels))\n",
        "  if rgb:\n",
        "    return tf.image.grayscale_to_rgb(mat), labels\n",
        "  else:\n",
        "    return mat, labels"
      ],
      "execution_count": 12,
      "outputs": []
    },
    {
      "cell_type": "code",
      "metadata": {
        "id": "OJPr_Cah-84I"
      },
      "source": [
        "def get_index(inds_0):\n",
        "  train_id=[]\n",
        "  valid_id=[]\n",
        "  test_id =[]\n",
        "\n",
        "  for i in range(8):\n",
        "    poscls=np.where(inds_0==i)[0]\n",
        "    sz=np.shape(poscls)[0]\n",
        "    rind=np.random.choice(sz,sz,replace=False)\n",
        "\n",
        "    train_id=np.append(train_id, poscls[rind][:int(sz*0.6)])\n",
        "    valid_id=np.append(valid_id, poscls[rind][int(sz*0.6):int(sz*0.8)])\n",
        "    test_id =np.append(test_id,  poscls[rind][int(sz*0.8):])\n",
        "  stn=np.shape(train_id)[0]\n",
        "  sva=np.shape(valid_id)[0]\n",
        "  stt=np.shape(test_id )[0]\n",
        "\n",
        "  train_id=train_id[np.random.choice(stn,stn,replace=False)].astype('int')\n",
        "  valid_id=valid_id[np.random.choice(sva,sva,replace=False)].astype('int')\n",
        "  test_id =test_id[np.random.choice(stt,stt,replace=False)].astype('int')\n",
        "  \n",
        "  return train_id, valid_id, test_id"
      ],
      "execution_count": 13,
      "outputs": []
    },
    {
      "cell_type": "code",
      "metadata": {
        "colab": {
          "base_uri": "https://localhost:8080/"
        },
        "id": "a5tk2ZR9_HxU",
        "outputId": "c61a7c66-b4c5-4d54-c859-27cdc9d89ddf"
      },
      "source": [
        "train,valid,test=get_index(vec_c)\n",
        "x_train, y_train=get_matrix(train, True)\n",
        "x_valid, y_valid=get_matrix(valid, True)\n",
        "x_test , y_test =get_matrix(test,  True)\n",
        "del imas"
      ],
      "execution_count": 14,
      "outputs": [
        {
          "output_type": "stream",
          "text": [
            "process  100.0 %"
          ],
          "name": "stdout"
        }
      ]
    },
    {
      "cell_type": "code",
      "metadata": {
        "id": "bOtBW22pf8Wb"
      },
      "source": [
        "from tensorflow.keras import applications as ap\n",
        "from tensorflow.keras.models import Sequential\n",
        "from tensorflow.keras.layers import Dense"
      ],
      "execution_count": 15,
      "outputs": []
    },
    {
      "cell_type": "code",
      "metadata": {
        "id": "8w_5hKxwgURQ"
      },
      "source": [
        "Networs=['DenseNet121']#, 'EfficientNetB7', 'InceptionResNetV2', 'ResNet50V2', 'VGG19', 'Xception', 'InceptionV3']\n",
        "def get_model(network, opt='adadelta', loss_name='categorical_crossentropy', input_shape=(256,256,3)):\n",
        "  try:\n",
        "    del model\n",
        "  except:\n",
        "    print('done')\n",
        "  model=Sequential()\n",
        "  if network=='ResNet50V2':\n",
        "    model.add(ap.ResNet50V2(include_top=False, input_shape=input_shape, pooling='avg', classes=8)) # The input must have 3 channels\n",
        "  if network=='EfficientNetB7':\n",
        "    model.add(ap.EfficientNetB7(include_top=False, input_shape=input_shape, pooling='avg', classes=8)) \n",
        "  if network=='InceptionResNetV2':\n",
        "    model.add(ap.InceptionResNetV2(include_top=False, input_shape=input_shape, pooling='avg', classes=8)) \n",
        "  if network=='InceptionV3':\n",
        "    model.add(ap.InceptionV3(include_top=False, input_shape=input_shape, pooling='avg', classes=8)) \n",
        "  if network=='NASNetLarge':\n",
        "    model.add(ap.NASNetLarge(include_top=False, input_shape=input_shape, pooling='avg', classes=8))\n",
        "  if network=='VGG19':\n",
        "    model.add(ap.VGG19(include_top=False, input_shape=input_shape, pooling='avg', classes=8)) \n",
        "  if network=='Xception':\n",
        "    model.add(ap.Xception(include_top=False, input_shape=input_shape, pooling='avg', classes=8))\n",
        "  if network=='DenseNet121':\n",
        "    model.add(ap.DenseNet121(include_top=False, input_shape=input_shape, pooling='avg', classes=8))\n",
        "  \n",
        "  model.add(Dense(8, activation='softmax'))\n",
        "  model.compile(optimizer=opt, loss=loss_name, metrics=['acc', tf.keras.metrics.Recall(), tf.keras.metrics.FalsePositives()])\n",
        "  return model"
      ],
      "execution_count": 16,
      "outputs": []
    },
    {
      "cell_type": "code",
      "metadata": {
        "id": "X3CQnEN220kT",
        "colab": {
          "base_uri": "https://localhost:8080/",
          "height": 49
        },
        "outputId": "d8f7bee6-64b3-4907-a5c7-2940b4f2980f"
      },
      "source": [
        "df = pd.DataFrame(columns=('run_n', 'network', 'optimizer', 'loss', 'epochs', 'total_parameters', 'time', 'augm', 'Class', 'TP', 'TN', 'FP', 'FN','result_mat'))\n",
        "df.head()"
      ],
      "execution_count": 17,
      "outputs": [
        {
          "output_type": "execute_result",
          "data": {
            "text/html": [
              "<div>\n",
              "<style scoped>\n",
              "    .dataframe tbody tr th:only-of-type {\n",
              "        vertical-align: middle;\n",
              "    }\n",
              "\n",
              "    .dataframe tbody tr th {\n",
              "        vertical-align: top;\n",
              "    }\n",
              "\n",
              "    .dataframe thead th {\n",
              "        text-align: right;\n",
              "    }\n",
              "</style>\n",
              "<table border=\"1\" class=\"dataframe\">\n",
              "  <thead>\n",
              "    <tr style=\"text-align: right;\">\n",
              "      <th></th>\n",
              "      <th>run_n</th>\n",
              "      <th>network</th>\n",
              "      <th>optimizer</th>\n",
              "      <th>loss</th>\n",
              "      <th>epochs</th>\n",
              "      <th>total_parameters</th>\n",
              "      <th>time</th>\n",
              "      <th>augm</th>\n",
              "      <th>Class</th>\n",
              "      <th>TP</th>\n",
              "      <th>TN</th>\n",
              "      <th>FP</th>\n",
              "      <th>FN</th>\n",
              "      <th>result_mat</th>\n",
              "    </tr>\n",
              "  </thead>\n",
              "  <tbody>\n",
              "  </tbody>\n",
              "</table>\n",
              "</div>"
            ],
            "text/plain": [
              "Empty DataFrame\n",
              "Columns: [run_n, network, optimizer, loss, epochs, total_parameters, time, augm, Class, TP, TN, FP, FN, result_mat]\n",
              "Index: []"
            ]
          },
          "metadata": {
            "tags": []
          },
          "execution_count": 17
        }
      ]
    },
    {
      "cell_type": "code",
      "metadata": {
        "id": "S1-EjVdu6sG9"
      },
      "source": [
        "from IPython.display import clear_output\n",
        "\n",
        "path2='/content/drive/MyDrive/INDIGO_MLR/CancerDeMama_INB_2/data_augmentation/'\n",
        "pathW='/content/drive/MyDrive/INDIGO_MLR/CancerDeMama_INB_2/Weights/'\n",
        "augmentation='partsRotated'\n",
        "optimizer='adadelta'\n",
        "epochs=40\n",
        "loss='categorical_crossentropy'"
      ],
      "execution_count": 18,
      "outputs": []
    },
    {
      "cell_type": "code",
      "metadata": {
        "id": "YwV3qOsJbAxk"
      },
      "source": [
        "TP=tf.keras.metrics.TruePositives()\n",
        "TN=tf.keras.metrics.TrueNegatives()\n",
        "FP=tf.keras.metrics.FalsePositives()\n",
        "FN=tf.keras.metrics.FalseNegatives()"
      ],
      "execution_count": 19,
      "outputs": []
    },
    {
      "cell_type": "code",
      "metadata": {
        "id": "Dlp0XBtm2n0b",
        "colab": {
          "base_uri": "https://localhost:8080/"
        },
        "outputId": "7b478efa-830c-4520-d711-acf403119b12"
      },
      "source": [
        "for net in Networs:\n",
        "\n",
        "  name_0='_'.join(['clasification_t',augmentation,net,optimizer])\n",
        "  if not os.path.exists(path2+name_0+'.csv'):\n",
        "    df.to_csv(path2+name_0+'.csv')\n",
        "\n",
        "  for i in range(40): #Numero corridas \n",
        "    for j in [loss]: #Funciones de perdida\n",
        "      cntn=True\n",
        "      name_m='_'.join([name_0,j,'run',str(i)])  \n",
        "      print(name_m)\n",
        "\n",
        "      #Obtener imagenes nuevamente\n",
        "      imas=get_mat_ima()\n",
        "      train,valid,test=get_index(vec_c)\n",
        "      x_train, y_train=get_matrix(train, True)\n",
        "      x_valid, y_valid=get_matrix(valid, True)\n",
        "      x_test , y_test =get_matrix(test,  True)\n",
        "      y_test=y_test>=0.5\n",
        "      del imas\n",
        "\n",
        "      model=get_model(net)\n",
        "      \n",
        "      try:\n",
        "        tic = time.time()\n",
        "        #results = model.fit(x_train, y_train, validation_data=(x_valid, y_valid), epochs=epochs)\n",
        "        results = model.fit(x_train, y_train, validation_data=(x_valid, y_valid), batch_size=10, epochs=epochs)\n",
        "        toc=time.time()-tic\n",
        "        model.save_weights(pathW+name_m+\"w.h5\")\n",
        "      except:\n",
        "        print('Training error')\n",
        "        cntn=False\n",
        "\n",
        "      if cntn:\n",
        "        sio.savemat(pathW+name_m+'_r.mat', results.history)\n",
        "\n",
        "        #Validation\n",
        "        y_hat=np.array(model.predict(x_test))\n",
        "        sio.savemat(pathW+name_m+'_los_8.mat',{'y_hat': y_hat, 'y_test': np.array(y_test)})\n",
        "        y_hat=y_hat>=0.5\n",
        "\n",
        "        for class_i in range(7):\n",
        "          TP.reset_state()\n",
        "          TN.reset_state()\n",
        "          FP.reset_state()\n",
        "          FN.reset_state()        \n",
        "\n",
        "          TP.update_state(y_test[:,class_i], y_hat[:,class_i])\n",
        "          TN.update_state(y_test[:,class_i], y_hat[:,class_i])\n",
        "          FP.update_state(y_test[:,class_i], y_hat[:,class_i])\n",
        "          FN.update_state(y_test[:,class_i], y_hat[:,class_i])\n",
        "          total_p=model.count_params()\n",
        "\n",
        "          #data frame\n",
        "          df2=pd.read_csv(path2+name_0+'.csv')\n",
        "          df2=df2.append({'run_n': i,\n",
        "                        'network': net,\n",
        "                        'optimizer': optimizer,\n",
        "                        'loss': 'categorical_crossentropy',\n",
        "                        'epochs': epochs,\n",
        "                        'total_parameters': total_p,\n",
        "                        'time': toc,\n",
        "                        'augm': augmentation,\n",
        "                        'Class': class_i,\n",
        "                        'TP': float(TP.result()),\n",
        "                        'TN': float(TN.result()),\n",
        "                        'FP': float(FP.result()),\n",
        "                        'FN': float(FN.result()),\n",
        "                        'result_mat': name_m+'_r.mat'} , ignore_index=True)\n",
        "          df2=df2.drop(df2.columns[:np.where(df2.columns=='run_n')[0][0]], axis=1)\n",
        "          df2.to_csv(path2+name_0+'.csv')\n",
        "        del train, valid, test, x_train, y_train, x_valid, y_valid, x_test, y_test, model\n",
        "        clear_output(wait=True)"
      ],
      "execution_count": null,
      "outputs": [
        {
          "output_type": "stream",
          "text": [
            "clasification_t_partsRotated_DenseNet121_adadelta_categorical_crossentropy_run_0\n",
            "process  23.97 %"
          ],
          "name": "stdout"
        }
      ]
    }
  ]
}