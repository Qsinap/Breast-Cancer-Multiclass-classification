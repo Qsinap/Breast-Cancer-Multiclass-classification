{
  "nbformat": 4,
  "nbformat_minor": 0,
  "metadata": {
    "colab": {
      "name": "Balanced data augmentation.ipynb",
      "provenance": []
    },
    "kernelspec": {
      "name": "python3",
      "display_name": "Python 3"
    },
    "language_info": {
      "name": "python"
    }
  },
  "cells": [
    {
      "cell_type": "markdown",
      "metadata": {
        "id": "CpB4s_o5kint"
      },
      "source": [
        "### InBreats"
      ]
    },
    {
      "cell_type": "code",
      "metadata": {
        "id": "1kc3hJW1xUx9",
        "outputId": "fe5d8f2b-e22e-491a-8422-0ceeca286f0b",
        "colab": {
          "base_uri": "https://localhost:8080/"
        }
      },
      "source": [
        "from google.colab import drive\n",
        "drive.mount('/content/drive')"
      ],
      "execution_count": 1,
      "outputs": [
        {
          "output_type": "stream",
          "text": [
            "Drive already mounted at /content/drive; to attempt to forcibly remount, call drive.mount(\"/content/drive\", force_remount=True).\n"
          ],
          "name": "stdout"
        }
      ]
    },
    {
      "cell_type": "code",
      "metadata": {
        "id": "b0CBd8d9xUvF"
      },
      "source": [
        "import keras.backend as K\n",
        "import numpy as np\n",
        "import matplotlib.pyplot as plt\n",
        "import glob\n",
        "import os\n",
        "import math\n",
        "from keras.callbacks import ModelCheckpoint, EarlyStopping\n",
        "import tensorflow as tf\n",
        "import scipy.io as sio\n",
        "import pandas as pd\n",
        "import time\n",
        "import cv2\n",
        "from skimage.transform import resize"
      ],
      "execution_count": 2,
      "outputs": []
    },
    {
      "cell_type": "code",
      "metadata": {
        "id": "M4gtvcVlx1G9"
      },
      "source": [
        "path_data='/content/drive/MyDrive/dataset/InBreast_kaggle/ALL-IMGS/'\n",
        "folders=glob.glob(path_data+'*.dcm') #410 imagenes de 115 sujetos\n",
        "excel=pd.read_excel('/content/drive/MyDrive/dataset/InBreast_kaggle/INbreast.xls')"
      ],
      "execution_count": 3,
      "outputs": []
    },
    {
      "cell_type": "code",
      "metadata": {
        "id": "fTYLawQux3Zf"
      },
      "source": [
        "def get_mat_ima():\n",
        "  mats=sio.loadmat('/content/drive/MyDrive/dataset/InBreast_kaggle/imagenes.mat')\n",
        "  im_1=mats['images']\n",
        "  for ix in range(410):\n",
        "    im_1[ix]=im_1[ix]*255/np.max(im_1[ix])\n",
        "  im_1=im_1.astype('uint8')\n",
        "  return im_1"
      ],
      "execution_count": 4,
      "outputs": []
    },
    {
      "cell_type": "code",
      "metadata": {
        "id": "Bjgq4HYlx9Se"
      },
      "source": [
        "imas=get_mat_ima()\n",
        "classes=np.array(excel.loc[:,'Bi-Rads'][:-2])\n",
        "conver={'0':-1, '1':0, '2':1, '3':2, '4a':3, '4b':4, '4c':5, '5':6, '6':7}  #Bi-Rads"
      ],
      "execution_count": 5,
      "outputs": []
    },
    {
      "cell_type": "code",
      "metadata": {
        "id": "9ZcRag_XybfU"
      },
      "source": [
        "def conver_f(val):\n",
        "  return conver[str(val)]\n",
        "vec=np.vectorize(conver_f)\n",
        "vec_c=vec(classes)"
      ],
      "execution_count": 6,
      "outputs": []
    },
    {
      "cell_type": "code",
      "metadata": {
        "id": "KHB4Bpm0yyeV"
      },
      "source": [
        "k_0 =[(0,0), (0,2), (1,1), (1,3), (2,0), (2,2), (3,1), (3,3), (0,1), (0,3), (1,0), (1,2), (2,1), (2,3), (3,0), (3,2)]\n",
        "def get_ima(tam, pk, ima, x_id):\n",
        "  ver=np.zeros((tam,tam))\n",
        "  hor=np.zeros((tam,tam))\n",
        "  ver[np.arange(tam)%4==k_0[pk][0],:]=1\n",
        "  hor[:,np.arange(tam)%4==k_0[pk][1]]=1\n",
        "  #ima=ima[...,0]\n",
        "  ima=ima[ver*hor==1].reshape((int(tam/4),int(tam/4)))\n",
        "  if k_0[pk][0]>=2:\n",
        "    ima=np.flip(ima, axis=0)\n",
        "  ima=np.rot90(ima,k_0[pk][1])\n",
        "  lab=vec_c[x_id]\n",
        "  return ima, int(lab)"
      ],
      "execution_count": 7,
      "outputs": []
    },
    {
      "cell_type": "code",
      "metadata": {
        "id": "lnF6cHf-zLU9"
      },
      "source": [
        "def get_data_reduction(x_id, Fourier=False, pk=np.random.choice(16), aug=True):\n",
        "  tam=1024\n",
        "  ima = imas[x_id]\n",
        "  \n",
        "  if np.shape(ima)[0]!=tam:\n",
        "    print('Size error')\n",
        "  else:\n",
        "    if aug:\n",
        "      imaOu=np.zeros((16,int(tam/4),int(tam/4)))\n",
        "      lab2=[]\n",
        "      for pk in range(16):\n",
        "        im, la=get_ima(tam, pk, ima, x_id)\n",
        "        imaOu[pk]=im\n",
        "        lab2=np.append(lab2,la)\n",
        "      return imaOu, lab2\n",
        "    else:\n",
        "      return get_ima(tam, pk, ima, x_id)"
      ],
      "execution_count": 8,
      "outputs": []
    },
    {
      "cell_type": "code",
      "metadata": {
        "id": "WRD8J6L1xUsd",
        "outputId": "7de2704f-e5fc-4c26-cd86-cacb165b2f79",
        "colab": {
          "base_uri": "https://localhost:8080/"
        }
      },
      "source": [
        "xx, yy=get_data_reduction(5, aug=True)\n",
        "np.shape(xx), np.shape(yy)"
      ],
      "execution_count": 9,
      "outputs": [
        {
          "output_type": "execute_result",
          "data": {
            "text/plain": [
              "((16, 256, 256), (16,))"
            ]
          },
          "metadata": {
            "tags": []
          },
          "execution_count": 9
        }
      ]
    },
    {
      "cell_type": "code",
      "metadata": {
        "id": "1Q3sLGNz0dD-"
      },
      "source": [
        "def count_cl(ind_0):\n",
        "  count=[]\n",
        "  for i in range(8):\n",
        "    Num_i=np.sum(vec_c[ind_0]==i)\n",
        "    count=np.append(count, Num_i)\n",
        "  return count.astype('int')"
      ],
      "execution_count": 10,
      "outputs": []
    },
    {
      "cell_type": "code",
      "metadata": {
        "id": "XujLGheRAnEJ"
      },
      "source": [
        "def one_hot(vec):\n",
        "  vec = vec-1\n",
        "  shape = (vec.size, 8)\n",
        "  one = np.zeros(shape)\n",
        "  rows = np.arange(vec.size)\n",
        "  one[rows, vec.astype('int')] = 1\n",
        "  return one"
      ],
      "execution_count": 38,
      "outputs": []
    },
    {
      "cell_type": "code",
      "metadata": {
        "id": "mbZjkM300RBN"
      },
      "source": [
        "def get_matrix(ind_0, aug=False, rgb=True):\n",
        "  sz=np.shape(ind_0)[0]\n",
        "  ima,lab=get_data_reduction(ind_0[0], aug=aug)\n",
        "  szx=np.shape(ima)\n",
        "  dis=count_cl(ind_0)\n",
        "  max_aug=int(np.min(dis)*16)\n",
        "  sz2=sz*((int(aug)-1)**2)+8*max_aug*(1-((int(aug)-1)**2))\n",
        "  mat=np.zeros((sz2,szx[0+int(aug)],szx[1+int(aug)]))\n",
        "  labels=[]\n",
        "  sub=count_cl(ind_0)                #Sujetos \n",
        "  resi=max_aug%sub                   #Residuales \n",
        "  augmen=(max_aug/sub).astype('int') #Aumento de los datos\n",
        "  Br=resi>0\n",
        "  contx=0\n",
        "  pk_0=0\n",
        "\n",
        "  for n,ix in enumerate(ind_0):    \n",
        "    lab_s=vec_c[ix]\n",
        "    if Br[lab_s]:\n",
        "      pk=int(augmen[lab_s]+1)\n",
        "    else:\n",
        "      pk=int(augmen[lab_s])\n",
        "    resi[lab_s]=resi[lab_s]-1\n",
        "    Br=resi>0\n",
        "    \n",
        "    if pk!=0:\n",
        "      if not aug:\n",
        "        pk=1      \n",
        "      contx=contx+pk\n",
        "      ima,lab=get_data_reduction(ix, aug=aug)\n",
        "      if aug:\n",
        "        mat[pk_0:contx]=ima[:pk]\n",
        "        labels=np.append(labels, lab[:pk])\n",
        "      else:\n",
        "        mat[pk_0:contx]=ima\n",
        "        labels=np.append(labels, lab)\n",
        "      pk_0=contx\n",
        "\n",
        "    print(\"\\rprocess \", round((n+1)*100/sz, 2), \"%\", end=\"\")\n",
        "  mat=tf.convert_to_tensor(mat.reshape(np.shape(mat)+(1,)))\n",
        "  labels=tf.convert_to_tensor(one_hot(labels))\n",
        "  if rgb:\n",
        "    return tf.image.grayscale_to_rgb(mat), labels\n",
        "  else:\n",
        "    return mat, labels"
      ],
      "execution_count": 35,
      "outputs": []
    },
    {
      "cell_type": "code",
      "metadata": {
        "id": "aGKlVSU5z4WP"
      },
      "source": [
        "def get_index(inds_0):\n",
        "  train_id=[]\n",
        "  valid_id=[]\n",
        "  test_id =[]\n",
        "\n",
        "  for i in range(8):\n",
        "    poscls=np.where(inds_0==i)[0]\n",
        "    sz=np.shape(poscls)[0]\n",
        "    rind=np.random.choice(sz,sz,replace=False)\n",
        "\n",
        "    train_id=np.append(train_id, poscls[rind][:int(sz*0.6)])\n",
        "    valid_id=np.append(valid_id, poscls[rind][int(sz*0.6):int(sz*0.8)])\n",
        "    test_id =np.append(test_id,  poscls[rind][int(sz*0.8):])\n",
        "  stn=np.shape(train_id)[0]\n",
        "  sva=np.shape(valid_id)[0]\n",
        "  stt=np.shape(test_id )[0]\n",
        "\n",
        "  train_id=train_id[np.random.choice(stn,stn,replace=False)].astype('int')\n",
        "  valid_id=valid_id[np.random.choice(sva,sva,replace=False)].astype('int')\n",
        "  test_id =test_id[np.random.choice(stt,stt,replace=False)].astype('int')\n",
        "  \n",
        "  return train_id, valid_id, test_id"
      ],
      "execution_count": 12,
      "outputs": []
    },
    {
      "cell_type": "code",
      "metadata": {
        "id": "iWiozXVkz0n1",
        "outputId": "998a30b9-e7e7-468f-e739-06830f21f2fa",
        "colab": {
          "base_uri": "https://localhost:8080/"
        }
      },
      "source": [
        "train,valid,test=get_index(vec_c)\n",
        "x_train, y_train=get_matrix(train, True)\n",
        "x_valid, y_valid=get_matrix(valid, True)\n",
        "x_test , y_test =get_matrix(test,  True)\n",
        "del imas"
      ],
      "execution_count": 39,
      "outputs": [
        {
          "output_type": "stream",
          "text": [
            "process  100.0 %"
          ],
          "name": "stdout"
        }
      ]
    },
    {
      "cell_type": "markdown",
      "metadata": {
        "id": "ni6Jrm2gkfg4"
      },
      "source": [
        "### MIAS"
      ]
    },
    {
      "cell_type": "code",
      "metadata": {
        "colab": {
          "base_uri": "https://localhost:8080/"
        },
        "id": "vW12ITPMj_n8",
        "outputId": "3b7cb8d9-7dbb-4492-a74e-05da65a3ac1d"
      },
      "source": [
        "from google.colab import drive\n",
        "drive.mount('/content/drive')"
      ],
      "execution_count": 1,
      "outputs": [
        {
          "output_type": "stream",
          "text": [
            "Drive already mounted at /content/drive; to attempt to forcibly remount, call drive.mount(\"/content/drive\", force_remount=True).\n"
          ],
          "name": "stdout"
        }
      ]
    },
    {
      "cell_type": "code",
      "metadata": {
        "id": "NCjHaUnwkr_H"
      },
      "source": [
        "import keras.backend as K\n",
        "import numpy as np\n",
        "import matplotlib.pyplot as plt\n",
        "import glob\n",
        "import os\n",
        "import math\n",
        "from keras.callbacks import ModelCheckpoint, EarlyStopping\n",
        "import tensorflow as tf\n",
        "import scipy.io as sio\n",
        "import pandas as pd\n",
        "import time\n",
        "import cv2"
      ],
      "execution_count": 2,
      "outputs": []
    },
    {
      "cell_type": "code",
      "metadata": {
        "id": "6V90cQ4mk11Q"
      },
      "source": [
        "path_mias='/content/drive/MyDrive/dataset/MIAS_kaggle/all-mias/'\n",
        "sub_id=sio.loadmat('/content/drive/MyDrive/dataset/MIAS_kaggle/sub_id.mat')['Id']\n",
        "sub_lab=sio.loadmat('/content/drive/MyDrive/dataset/MIAS_kaggle/Dic.mat')\n",
        "classes=np.array(['MISC', 'CIRC', 'CALC', 'SPIC', 'ASYM', 'ARCH', 'NORM'])"
      ],
      "execution_count": 3,
      "outputs": []
    },
    {
      "cell_type": "code",
      "metadata": {
        "id": "Bsjakw0Wkr74"
      },
      "source": [
        "def labels_f(key):\n",
        "  return np.where(classes==sub_lab[key][0])[0][0]\n",
        "vecx=np.vectorize(labels_f)"
      ],
      "execution_count": 4,
      "outputs": []
    },
    {
      "cell_type": "code",
      "metadata": {
        "id": "TlCaCiZ6kryv"
      },
      "source": [
        "def count_cl(ind_0):\n",
        "  count=[]\n",
        "  for i in range(7):\n",
        "    Num_i=np.sum(vecx(ind_0)==i)\n",
        "    count=np.append(count, Num_i)\n",
        "  return count.astype('int')"
      ],
      "execution_count": 5,
      "outputs": []
    },
    {
      "cell_type": "code",
      "metadata": {
        "colab": {
          "base_uri": "https://localhost:8080/"
        },
        "id": "C4QpkysS2IM9",
        "outputId": "25f86285-e32a-408e-9319-0f653f5576cf"
      },
      "source": [
        "count_cl(sub_id)"
      ],
      "execution_count": 6,
      "outputs": [
        {
          "output_type": "execute_result",
          "data": {
            "text/plain": [
              "array([ 14,  23,  25,  19,  15,  19, 207])"
            ]
          },
          "metadata": {
            "tags": []
          },
          "execution_count": 6
        }
      ]
    },
    {
      "cell_type": "code",
      "metadata": {
        "id": "aKOwB_BOn036"
      },
      "source": [
        "k_0 =[(0,0), (0,2), (1,1), (1,3), (2,0), (2,2), (3,1), (3,3), (0,1), (0,3), (1,0), (1,2), (2,1), (2,3), (3,0), (3,2)]\n",
        "def get_ima(tam, pk, ima, x_id):\n",
        "  ver=np.zeros((tam,tam))\n",
        "  hor=np.zeros((tam,tam))\n",
        "  ver[np.arange(tam)%4==k_0[pk][0],:]=1\n",
        "  hor[:,np.arange(tam)%4==k_0[pk][1]]=1\n",
        "  ima=ima[...,0]\n",
        "  ima=ima[ver*hor==1].reshape((int(tam/4),int(tam/4)))\n",
        "  if k_0[pk][0]>=2:\n",
        "    ima=np.flip(ima, axis=0)\n",
        "  ima=np.rot90(ima,k_0[pk][1])\n",
        "  lab=labels_f(x_id)\n",
        "  return ima, int(lab)"
      ],
      "execution_count": 7,
      "outputs": []
    },
    {
      "cell_type": "code",
      "metadata": {
        "id": "FPuFV8nwnwCB"
      },
      "source": [
        "def get_data_reduction(x_id, Fourier=False, pk=np.random.choice(16), aug=True):\n",
        "  tam=1024\n",
        "  name=path_mias+x_id+'.pgm'\n",
        "  ima = cv2.imread(name)  \n",
        "  if np.shape(ima)[0]!=tam:\n",
        "    print('Size error')\n",
        "  else:\n",
        "    if aug:\n",
        "      imaOu=np.zeros((16,int(tam/4),int(tam/4)))\n",
        "      lab2=[]\n",
        "      for pk in range(16):\n",
        "        im, la=get_ima(tam, pk, ima, x_id)\n",
        "        imaOu[pk]=im\n",
        "        lab2=np.append(lab2,la)\n",
        "      return imaOu, lab2\n",
        "    else:\n",
        "      return get_ima(tam, pk, ima, x_id)"
      ],
      "execution_count": 8,
      "outputs": []
    },
    {
      "cell_type": "code",
      "metadata": {
        "colab": {
          "base_uri": "https://localhost:8080/"
        },
        "id": "hGSiqXb0mal4",
        "outputId": "e2d53aed-b0e8-46b3-9a51-db78eb36af2b"
      },
      "source": [
        "xx, yy=get_data_reduction('mdb013', aug=True)\n",
        "np.shape(xx), np.shape(yy)"
      ],
      "execution_count": 9,
      "outputs": [
        {
          "output_type": "execute_result",
          "data": {
            "text/plain": [
              "((16, 256, 256), (16,))"
            ]
          },
          "metadata": {
            "tags": []
          },
          "execution_count": 9
        }
      ]
    },
    {
      "cell_type": "code",
      "metadata": {
        "id": "qT7HflZRxk3L"
      },
      "source": [
        "def get_index2(inds_0):\n",
        "  val=vecx(inds_0)\n",
        "  train_id=[]\n",
        "  valid_id=[]\n",
        "  test_id =[]\n",
        "\n",
        "  for ix in range(7):\n",
        "    pos=np.where(val==ix)[0]\n",
        "    sz=np.shape(pos)[0]\n",
        "    rx=np.random.choice(sz,sz,replace=False)\n",
        "    pos=pos[rx]\n",
        "    train_id=np.append(train_id, inds_0[pos[:int(sz*0.6)]])\n",
        "    valid_id=np.append(valid_id, inds_0[pos[int(sz*0.6):int(sz*0.8)]])\n",
        "    test_id =np.append(test_id , inds_0[pos[int(sz*0.8):]])\n",
        "\n",
        "  #Esta parte puede sobrar\n",
        "  stn=np.shape(train_id)[0]\n",
        "  sva=np.shape(valid_id)[0]\n",
        "  stt=np.shape(test_id)[0]\n",
        "\n",
        "  train_id=train_id[np.random.choice(stn,stn,replace=False)]\n",
        "  valid_id=valid_id[np.random.choice(sva,sva,replace=False)]\n",
        "  test_id =test_id[np.random.choice(stt,stt,replace=False)]\n",
        "  return train_id, valid_id, test_id"
      ],
      "execution_count": 10,
      "outputs": []
    },
    {
      "cell_type": "code",
      "metadata": {
        "id": "aZonTluOyoeM"
      },
      "source": [
        "def one_hot(vec):\n",
        "  vec = vec\n",
        "  shape = (vec.size, 7)\n",
        "  one = np.zeros(shape)\n",
        "  rows = np.arange(vec.size)\n",
        "  one[rows, vec.astype('int')] = 1\n",
        "  return one"
      ],
      "execution_count": 11,
      "outputs": []
    },
    {
      "cell_type": "code",
      "metadata": {
        "id": "XJImxMS0xuHM"
      },
      "source": [
        "def get_matrix(ind_0, aug=False, rgb=True):\n",
        "  sz=np.shape(ind_0)[0]\n",
        "  ima,lab=get_data_reduction(ind_0[0], aug=aug)\n",
        "  szx=np.shape(ima)\n",
        "  dis=count_cl(ind_0)\n",
        "  max_aug=int(np.min(dis)*16)\n",
        "  sz2=sz*((int(aug)-1)**2)+7*max_aug*(1-((int(aug)-1)**2))\n",
        "  mat=np.zeros((sz2,szx[0+int(aug)],szx[1+int(aug)]))\n",
        "  labels=[]\n",
        "  sub=count_cl(ind_0)                #Sujetos \n",
        "  resi=max_aug%sub                   #Residuales \n",
        "  augmen=(max_aug/sub).astype('int') #Aumento de los datos\n",
        "  Br=resi>0\n",
        "  contx=0\n",
        "  pk_0=0\n",
        "\n",
        "  for n,ix in enumerate(ind_0):    \n",
        "    lab_s=labels_f(ix)\n",
        "    if Br[lab_s]:\n",
        "      pk=int(augmen[lab_s]+1)\n",
        "    else:\n",
        "      pk=int(augmen[lab_s])\n",
        "    resi[lab_s]=resi[lab_s]-1\n",
        "    Br=resi>0\n",
        "    if pk!=0:\n",
        "      if not aug:\n",
        "        pk=1\n",
        "      contx=contx+pk\n",
        "      ima,lab=get_data_reduction(ix, aug=aug)\n",
        "\n",
        "      if aug:\n",
        "        mat[pk_0:contx]=ima[:pk]\n",
        "        labels=np.append(labels, lab[:pk])\n",
        "      else:\n",
        "        mat[pk_0:contx]=ima\n",
        "        labels=np.append(labels, lab)\n",
        "      pk_0=contx\n",
        "    print(\"\\rprocess \", round((n+1)*100/sz, 2), \"%\", end=\"\")\n",
        "  mat=tf.convert_to_tensor(mat.reshape(np.shape(mat)+(1,)))\n",
        "  labels=tf.convert_to_tensor(one_hot(labels))\n",
        "  if rgb:\n",
        "    return tf.image.grayscale_to_rgb(mat), labels\n",
        "  else:\n",
        "    return mat, labels"
      ],
      "execution_count": 12,
      "outputs": []
    },
    {
      "cell_type": "code",
      "metadata": {
        "colab": {
          "base_uri": "https://localhost:8080/"
        },
        "id": "0FetSWUCxZJq",
        "outputId": "22fddcf2-b256-48c3-eff8-40c57a87682c"
      },
      "source": [
        "train,valid,test=get_index2(sub_id)\n",
        "x_train, y_train=get_matrix(train, True)\n",
        "x_valid, y_valid=get_matrix(valid, True)\n",
        "x_test , y_test =get_matrix(test,  True)"
      ],
      "execution_count": 13,
      "outputs": [
        {
          "output_type": "stream",
          "text": [
            "process  100.0 %"
          ],
          "name": "stdout"
        }
      ]
    }
  ]
}